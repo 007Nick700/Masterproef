{
 "cells": [
  {
   "cell_type": "markdown",
   "metadata": {},
   "source": [
    "**Necessary imports** "
   ]
  },
  {
   "cell_type": "code",
   "execution_count": 9,
   "metadata": {},
   "outputs": [],
   "source": [
    "import os\n",
    "os.environ['TF_CPP_MIN_LOG_LEVEL'] = '2'    # Suppress TensorFlow logging (1)\n",
    "import cv2\n",
    "import argparse\n",
    "import time\n",
    "import serial\n",
    "import winsound\n",
    "\n",
    "import tensorflow as tf\n",
    "import numpy as np\n",
    "import tkinter as tk\n",
    "\n",
    "from object_detection.utils import label_map_util\n",
    "from PIL import Image\n",
    "from datetime import datetime, timedelta"
   ]
  },
  {
   "cell_type": "code",
   "execution_count": 2,
   "metadata": {},
   "outputs": [],
   "source": [
    "tf.get_logger().setLevel('ERROR')           # Suppress TensorFlow logging (2)\n",
    "\n",
    "parser = argparse.ArgumentParser()\n",
    "parser.add_argument('--model', help='Folder that the Saved Model is Located In',\n",
    "                    default='exported-models/my_mobilenet_model')\n",
    "parser.add_argument('--labels', help='Where the Labelmap is Located',\n",
    "                    default='exported-models/my_mobilenet_model/saved_model/label_map.pbtxt')\n",
    "parser.add_argument('--threshold', help='Minimum confidence threshold for displaying detected objects',\n",
    "                    default=0.5)\n",
    "                    \n",
    "args, unknown = parser.parse_known_args()"
   ]
  },
  {
   "cell_type": "markdown",
   "metadata": {},
   "source": [
    "**Enable GPU dynamic memory allocation**"
   ]
  },
  {
   "cell_type": "code",
   "execution_count": 3,
   "metadata": {},
   "outputs": [],
   "source": [
    "gpus = tf.config.experimental.list_physical_devices('GPU')\n",
    "for gpu in gpus:\n",
    "    tf.config.experimental.set_memory_growth(gpu, True)"
   ]
  },
  {
   "cell_type": "markdown",
   "metadata": {},
   "source": [
    "**Setting Paths**"
   ]
  },
  {
   "cell_type": "code",
   "execution_count": 4,
   "metadata": {},
   "outputs": [],
   "source": [
    "# PROVIDE PATH TO MODEL DIRECTORY\n",
    "PATH_TO_MODEL_DIR = 'C:/tensorflow2/Andere_Datasets/MondmaskerDataset/inference_graph'\n",
    "\n",
    "# PROVIDE PATH TO LABEL MAP\n",
    "PATH_TO_LABELS = 'C:/tensorflow2/Andere_Datasets/MondmaskerDataset/training/label_map.pbtxt'\n",
    "\n",
    "# PROVIDE THE MINIMUM CONFIDENCE THRESHOLD\n",
    "MIN_CONF_THRESH = float(args.threshold)"
   ]
  },
  {
   "cell_type": "markdown",
   "metadata": {},
   "source": [
    "**Load the model**"
   ]
  },
  {
   "cell_type": "code",
   "execution_count": 5,
   "metadata": {},
   "outputs": [
    {
     "name": "stdout",
     "output_type": "stream",
     "text": [
      "Loading model...Done! Took 151.55486059188843 seconds\n"
     ]
    }
   ],
   "source": [
    "PATH_TO_SAVED_MODEL = PATH_TO_MODEL_DIR + \"/saved_model\"\n",
    "\n",
    "print('Loading model...', end='')\n",
    "start_time = time.time()\n",
    "\n",
    "# Load saved model and build the detection function\n",
    "detect_fn = tf.saved_model.load(PATH_TO_SAVED_MODEL)\n",
    "\n",
    "end_time = time.time()\n",
    "elapsed_time = end_time - start_time\n",
    "print('Done! Took {} seconds'.format(elapsed_time))"
   ]
  },
  {
   "cell_type": "markdown",
   "metadata": {},
   "source": [
    "**Load label map data (for plotting)**"
   ]
  },
  {
   "cell_type": "code",
   "execution_count": 6,
   "metadata": {},
   "outputs": [
    {
     "name": "stdout",
     "output_type": "stream",
     "text": [
      "Running inference for Webcam"
     ]
    }
   ],
   "source": [
    "category_index = label_map_util.create_category_index_from_labelmap(PATH_TO_LABELS,\n",
    "                                                                    use_display_name=True)\n",
    "\n",
    "\n",
    "def load_image_into_numpy_array(path):\n",
    "    \"\"\"Load an image from file into a numpy array.\n",
    "    Puts image into numpy array to feed into tensorflow graph.\n",
    "    Note that by convention we put it into a numpy array with shape\n",
    "    (height, width, channels), where channels=3 for RGB.\n",
    "    Args:\n",
    "      path: the file path to the image\n",
    "    Returns:\n",
    "      uint8 numpy array with shape (img_height, img_width, 3)\n",
    "    \"\"\"\n",
    "    return np.array(Image.open(path))\n",
    "\n",
    "\n",
    "\n",
    "print('Running inference for Webcam', end='')"
   ]
  },
  {
   "cell_type": "markdown",
   "metadata": {},
   "source": [
    "**Error Message**"
   ]
  },
  {
   "cell_type": "code",
   "execution_count": 7,
   "metadata": {},
   "outputs": [],
   "source": [
    "ignore = False\n",
    "\n",
    "\n",
    "def error_msg():\n",
    "    frequency = 2000  # Set Frequency To 2000 Hertz\n",
    "    duration = 800  # Set Duration To 800 ms == 0.8 second\n",
    "    winsound.Beep(frequency, duration)\n",
    "    time.sleep(0.1)\n",
    "    winsound.Beep(frequency, duration)\n",
    "    time.sleep(0.1)\n",
    "    winsound.Beep(frequency, duration)\n",
    "\n",
    "    root = tk.Tk()\n",
    "    root.geometry('381x210')\n",
    "    root.title(\"Error detector\")\n",
    "    root.configure(background=\"black\")\n",
    "    canvas=tk.Canvas(root, width=381, height=210, bg=\"black\")\n",
    "    canvas.pack()\n",
    "\n",
    "    img = tk.PhotoImage(file=\"errorscreen.png\")\n",
    "    myimg = canvas.create_image(0,0, anchor=\"nw\", image=img)\n",
    "\n",
    "# Counter on screen\n",
    "    tekst = tk.Label(root, text=\"Dit scherm sluit automatisch in:\", bg=\"#ece9d9\", fg=\"grey\")\n",
    "    tekst.pack()\n",
    "    canvas.create_window(100, 190, window=tekst)\n",
    "\n",
    "    def countdown(cntdwn):\n",
    "        # change text in label\n",
    "        countdowntekst['text'] = cntdwn\n",
    "\n",
    "        if cntdwn > 0:\n",
    "            # call countdown again after 1000ms (1s)\n",
    "            root.after(1000, countdown, cntdwn - 1)\n",
    "        else:\n",
    "            root.destroy()\n",
    "\n",
    "    countdowntekst = tk.Label(root, bg=\"#ece9d9\", fg=\"grey\")\n",
    "    countdowntekst.place(x=185, y=180)\n",
    "\n",
    "    # call countdown first time\n",
    "    countdown(10)\n",
    "    # root.after(0, countdown, 10)\n",
    "\n",
    "# Code to stop 3D-printer\n",
    "    def stopcode():\n",
    "        global ignore\n",
    "        \"\"\"ser = serial.Serial('COM3', 115200, dsrdtr=True)\n",
    "        time.sleep(2)\n",
    "        ser.write(str.encode(\"G28 X0 Y0\\r\\n\"))  #Home X- and Y-axis\n",
    "        ser.write(str.encode(\"M84\\r\\n\"))        #Disable steppers\n",
    "        ser.write(str.encode(\"M106 S0\\r\\n\"))    #Turn off fan\n",
    "        ser.write(str.encode(\"M104 S0\\r\\n\"))    #Turn of hot-end\n",
    "        ser.write(str.encode(\"M140 S0\\r\\n\"))    #Turn off bed\n",
    "        time.sleep(1)\"\"\"\n",
    "        print(\"stopping print\")\n",
    "        root.destroy()\n",
    "        ignore = True\n",
    "\n",
    "    stopknop = tk.Button(root, text=\"Stop printer\", padx=10, pady=5, fg=\"black\", bg=\"red\", command=stopcode)\n",
    "    stopknop.place(x=220, y=130)\n",
    "\n",
    "# Code to ignore error screen\n",
    "    def negeercode():\n",
    "        global ignore\n",
    "        ignore = True\n",
    "        root.destroy()\n",
    "        time.sleep(10)   # Time to snooze error screen\n",
    "        ignore = False\n",
    "\n",
    "    ignorebutton = tk.Button(root, text=\"Negeer errors\", padx=10, pady=5, fg=\"black\", bg=\"#ece9d9\", command=negeercode)\n",
    "    ignorebutton.place(x=100, y=130)\n",
    "\n",
    "\n",
    "    root.resizable(False, False)\n",
    "    root.mainloop()"
   ]
  },
  {
   "cell_type": "markdown",
   "metadata": {},
   "source": [
    "**Initialize Webcam**"
   ]
  },
  {
   "cell_type": "code",
   "execution_count": 10,
   "metadata": {},
   "outputs": [
    {
     "name": "stdout",
     "output_type": "stream",
     "text": [
      "Count has been greater than 0 for more than 3 seconds\n",
      "Count has been greater than 0 for more than 3 seconds\n",
      "stopping print\n",
      " Done\n"
     ]
    }
   ],
   "source": [
    "videostream = cv2.VideoCapture(0)\n",
    "ret = videostream.set(3,1280)\n",
    "ret = videostream.set(4,720)\n",
    "first_seen = None\n",
    "\n",
    "while True:\n",
    "\n",
    "    # Acquire frame and expand frame dimensions to have shape: [1, None, None, 3]\n",
    "    # i.e. a single-column array, where each item in the column has the pixel RGB value\n",
    "    ret, frame = videostream.read()\n",
    "    frame_rgb = cv2.cvtColor(frame, cv2.COLOR_RGB2BGR)\n",
    "    frame_expanded = np.expand_dims(frame_rgb, axis=0)\n",
    "    imH, imW, _ = frame.shape\n",
    "\n",
    "    # The input needs to be a tensor, convert it using `tf.convert_to_tensor`.\n",
    "    input_tensor = tf.convert_to_tensor(frame)\n",
    "    # The model expects a batch of images, so add an axis with `tf.newaxis`.\n",
    "    input_tensor = input_tensor[tf.newaxis, ...]\n",
    "\n",
    "    # input_tensor = np.expand_dims(image_np, 0)\n",
    "    detections = detect_fn(input_tensor)\n",
    "\n",
    "    # All outputs are batches tensors.\n",
    "    # Convert to numpy arrays, and take index [0] to remove the batch dimension.\n",
    "    # We're only interested in the first num_detections.\n",
    "    num_detections = int(detections.pop('num_detections'))\n",
    "    detections = {key: value[0, :num_detections].numpy()\n",
    "                   for key, value in detections.items()}\n",
    "    detections['num_detections'] = num_detections\n",
    "\n",
    "    # detection_classes should be ints.\n",
    "    detections['detection_classes'] = detections['detection_classes'].astype(np.int64)\n",
    "\n",
    "    \n",
    "    # SET MIN SCORE THRESH TO MINIMUM THRESHOLD FOR DETECTIONS\n",
    "    \n",
    "    detections['detection_classes'] = detections['detection_classes'].astype(np.int64)\n",
    "    scores = detections['detection_scores']\n",
    "    boxes = detections['detection_boxes']\n",
    "    classes = detections['detection_classes']\n",
    "    count = 0\n",
    "    for i in range(len(scores)):\n",
    "        if ((scores[i] > MIN_CONF_THRESH) and (scores[i] <= 1.0)):\n",
    "            #increase count\n",
    "            count += 1\n",
    "            # Get bounding box coordinates and draw box\n",
    "            # Interpreter can return coordinates that are outside of image dimensions, need to force them to be within image using max() and min()\n",
    "            ymin = int(max(1,(boxes[i][0] * imH)))\n",
    "            xmin = int(max(1,(boxes[i][1] * imW)))\n",
    "            ymax = int(min(imH,(boxes[i][2] * imH)))\n",
    "            xmax = int(min(imW,(boxes[i][3] * imW)))\n",
    "            \n",
    "            cv2.rectangle(frame, (xmin,ymin), (xmax,ymax), (10, 255, 0), 2)\n",
    "            # Draw label\n",
    "            object_name = category_index[int(classes[i])]['name'] # Look up object name from \"labels\" array using class index\n",
    "            label = '%s: %d%%' % (object_name, int(scores[i]*100)) # Example: 'person: 72%'\n",
    "            labelSize, baseLine = cv2.getTextSize(label, cv2.FONT_HERSHEY_SIMPLEX, 0.7, 2) # Get font size\n",
    "            label_ymin = max(ymin, labelSize[1] + 10) # Make sure not to draw label too close to top of window\n",
    "            cv2.rectangle(frame, (xmin, label_ymin-labelSize[1]-10), (xmin+labelSize[0], label_ymin+baseLine-10), (255, 255, 255), cv2.FILLED) # Draw white box to put label text in\n",
    "            cv2.putText(frame, label, (xmin, label_ymin-7), cv2.FONT_HERSHEY_SIMPLEX, 0.7, (0, 0, 0), 2) # Draw label text\n",
    "\n",
    "    cv2.putText (frame,'Objects Detected : ' + str(count),(10,25),cv2.FONT_HERSHEY_SIMPLEX,1,(70,235,52),2,cv2.LINE_AA)\n",
    "    cv2.imshow('Objects Detector', frame)\n",
    "    \n",
    "    if count > 0 and first_seen is None:\n",
    "        first_seen = datetime.now()\n",
    "    elif count == 0:\n",
    "        first_seen = None\n",
    "    elif count > 0 and datetime.now() - first_seen > timedelta(seconds=3) and ignore == False:\n",
    "        print(\"Count has been greater than 0 for more than 3 seconds\")\n",
    "        error_msg()\n",
    "    \n",
    "    if cv2.waitKey(1) == ord('q'):\n",
    "        break\n",
    "\n",
    "cv2.destroyAllWindows()\n",
    "print(\" Done\")\n"
   ]
  },
  {
   "cell_type": "code",
   "execution_count": null,
   "metadata": {},
   "outputs": [],
   "source": []
  }
 ],
 "metadata": {
  "kernelspec": {
   "display_name": "Python 3",
   "language": "python",
   "name": "python3"
  },
  "language_info": {
   "codemirror_mode": {
    "name": "ipython",
    "version": 3
   },
   "file_extension": ".py",
   "mimetype": "text/x-python",
   "name": "python",
   "nbconvert_exporter": "python",
   "pygments_lexer": "ipython3",
   "version": "3.8.3"
  }
 },
 "nbformat": 4,
 "nbformat_minor": 4
}
